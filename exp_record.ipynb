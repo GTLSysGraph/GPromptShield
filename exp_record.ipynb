{
 "cells": [
  {
   "cell_type": "markdown",
   "metadata": {},
   "source": [
    "GPF和GPF Plus在few shot特定攻击上的表现 预训练模型 GraphCL 256 hidden dim 100 epoch\n",
    "\n",
    "CUDA_VISIBLE_DEVICES=1\n",
    "python MyTask.py \\\n",
    "--pre_train_model_path './pre_trained_model/Cora.GraphCL.GCN.256hidden_dim.pth' \\\n",
    "--task NodeTask \\\n",
    "--dataset_name 'Cora' \\\n",
    "--preprocess_method 'none' \\\n",
    "--gnn_type 'GCN' \\\n",
    "--prompt_type 'GPF' \\\n",
    "--shot_num 5 \\\n",
    "--run_split 1 \\\n",
    "--hid_dim 256 \\\n",
    "--num_layer 2 \\\n",
    "--epochs 100 \\\n",
    "--seed 1 \\\n",
    "--attack_downstream \\\n",
    "--attack_method 'Meta_Self-0.0' \\\n",
    "--specified\n",
    "\n",
    "\n",
    "\n",
    "inductive\n",
    "run split 1\n",
    "seed 1 \n",
    "Cora                        \n",
    "            \n",
    "GPF                                             1 shot          5 shot           10 shot\n",
    "                        Meta_Self 0.0           0.5427          0.6952           0.7028\n",
    "                        \n",
    "\n",
    "                                                           \n",
    "\n",
    "GPF Plus(pnum 20)                               1 shot          5 shot           10 shot\n",
    "                        Meta_Self 0.0           0.3667          0.7355           0.7197\n",
    "\n",
    "\n",
    "\n",
    "\n",
    "\n",
    "\n",
    "\n",
    "tranductive\n",
    "run split 1\n",
    "\n",
    "Cora                        \n",
    "            \n",
    "GPF                                             1 shot          5 shot           10 shot\n",
    "                        Meta_Self 0.0           0.3134          0.4248           0.5769\n",
    "                        \n",
    "\n",
    "\n",
    "\n",
    "                        \n",
    "\n",
    "                                                           \n",
    "\n",
    "GPF Plus(pnum 20)                               1 shot          5 shot           10 shot\n",
    "                        Meta_Self 0.0           0.2525          0.5321           0.6003\n",
    "                        \n",
    "\n",
    "\n",
    "\n"
   ]
  },
  {
   "cell_type": "markdown",
   "metadata": {},
   "source": [
    "实验设计 \n",
    "首先随机的选取shot是不稳定的 尤其是1 shot 波动会比较大 而且非常容易过拟合\n",
    "可以设计一个自己的方法然后做ablation study，也可以写在introduction中 \n"
   ]
  }
 ],
 "metadata": {
  "language_info": {
   "name": "python"
  }
 },
 "nbformat": 4,
 "nbformat_minor": 2
}
